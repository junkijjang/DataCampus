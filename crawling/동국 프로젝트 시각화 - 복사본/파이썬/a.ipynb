{
 "cells": [
  {
   "cell_type": "code",
   "execution_count": null,
   "metadata": {},
   "outputs": [],
   "source": [
    "import stylecloud\n",
    "stylecloud.gen_stylecloud(\n",
    "    text=count, # text, 대신에 file_path로 경로를 넣을 수도 있음. text옵션을 쓸 땐 단어를 단순히 띄어쓰기로만 토큰화시켜 빈도수 계산.\n",
    "    size = 1028,                   # file_path로 할 땐 단어: 빈도 형태의 딕셔너리 파일을 넣어야 함.\n",
    "    icon_name = \"fas fa-comment-alt\",\n",
    "    palette='colorbrewer.qualitative.Paired_10',\n",
    "    background_color ='white',\n",
    "    font_path='C:\\\\Users\\\\jun\\\\AppData\\\\Local\\\\Microsoft\\\\Windows\\\\Fonts\\\\NanumGothic.ttf',\n",
    "    output_name=\"testwordcloud.png\")\n",
    "\n",
    "\n",
    "#font_path 설정 할 때 사람이나 OS마다 환경이 다름. windows의 경우엔 HANDotum.ttf는 왠만하면 있어서 넣으면 오류 없음\n",
    "#HANDotum.ttf\n",
    "#혹시 나눔 고딕을 넣고 싶으면\n",
    "#font/NanumGothic.ttf\n"
   ]
  }
 ],
 "metadata": {
  "kernelspec": {
   "display_name": "Python 3",
   "language": "python",
   "name": "python3"
  },
  "language_info": {
   "codemirror_mode": {
    "name": "ipython",
    "version": 3
   },
   "file_extension": ".py",
   "mimetype": "text/x-python",
   "name": "python",
   "nbconvert_exporter": "python",
   "pygments_lexer": "ipython3",
   "version": "3.8.3"
  }
 },
 "nbformat": 4,
 "nbformat_minor": 4
}
